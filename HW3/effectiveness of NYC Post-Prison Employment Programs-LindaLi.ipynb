{
 "cells": [
  {
   "cell_type": "markdown",
   "metadata": {},
   "source": [
    "#August 2015 \n",
    "#Author: FBB\n",
    "#Modified by: L. Li (9/30/2015)\n",
    "\n",
    "#reproduce the result in http://www.mdrc.org/sites/default/files/What%20Strategies%20Work%20for%20the%20Hard%20FR.pdf \n"
   ]
  },
  {
   "cell_type": "code",
   "execution_count": 1,
   "metadata": {
    "collapsed": false
   },
   "outputs": [
    {
     "name": "stdout",
     "output_type": "stream",
     "text": [
      "Populating the interactive namespace from numpy and matplotlib\n"
     ]
    }
   ],
   "source": [
    "import os\n",
    "import sys\n",
    "import numpy as np\n",
    "import pylab as pl\n",
    "import json\n",
    "\n",
    "%pylab inline"
   ]
  },
  {
   "cell_type": "markdown",
   "metadata": {},
   "source": [
    "#NULL HYPOTHESIS: the % of former prisoners convicted of a crime after release is the same or higher for candidates who participated in the program as for the control group, significance level p=0.05"
   ]
  },
  {
   "cell_type": "markdown",
   "metadata": {},
   "source": [
    "#$H_0: P_0 - P_1 \\leq$    0\n",
    "    \n",
    "#$H_a: P_0 - P_1 $> 0    \n",
    "    \n",
    "    \n",
    "#$\\alpha$ = 0.05    \n",
    "\n",
    "##this is a TEST OF PROPORTIONS. we use the Binomial distribution since it is a yes/no (bernulli) test for each subject: the former inmate was or was not ever convicted of a crime in years 1-3 (second row in the Recidivism table):\n",
    "#$P_0=0.488, P_1=0.431$"
   ]
  },
  {
   "cell_type": "code",
   "execution_count": 2,
   "metadata": {
    "collapsed": false
   },
   "outputs": [
    {
     "name": "stdout",
     "output_type": "stream",
     "text": [
      "199.592 244.808\n"
     ]
    }
   ],
   "source": [
    "alpha=0.05\n",
    "#we like fractions better then percentages. as a rule of thumb, either use fractions or counts\n",
    "P_0=48.8*0.01 \n",
    "P_1=43.1*0.01\n",
    "\n",
    "n_0=409\n",
    "n_1=568\n",
    "\n",
    "#lets get the counts by multiplying by the sample size\n",
    "Nt_0=P_0*n_0\n",
    "Nt_1=P_1*n_1\n",
    "\n",
    "print Nt_0, Nt_1"
   ]
  },
  {
   "cell_type": "markdown",
   "metadata": {},
   "source": [
    "#2 samples, categorical data\n",
    "#TWO OPTIONS z test, or chi square test.  "
   ]
  },
  {
   "cell_type": "markdown",
   "metadata": {},
   "source": [
    "#START WITH Z TEST\n",
    "\n",
    "##the z test compares the stanrard deviation of the expected distribution and the observed result. it tells you literally how many standard deviations from the tail an observation is, under the _assumption of normality\n",
    "must define the sample standard deviation "
   ]
  },
  {
   "cell_type": "code",
   "execution_count": 3,
   "metadata": {
    "collapsed": false
   },
   "outputs": [
    {
     "name": "stdout",
     "output_type": "stream",
     "text": [
      "0.454861821904\n"
     ]
    }
   ],
   "source": [
    "#define the sample proportion first\n",
    "sp=(P_0*n_0+P_1*n_1)/(n_1+n_0)\n",
    "print sp"
   ]
  },
  {
   "cell_type": "markdown",
   "metadata": {},
   "source": [
    "#standard deviation of the sampling distribution the distribution is Binomial, the binomail stdev is \n",
    "\n",
    "(see a proof here!: http://stats.stackexchange.com/questions/29641/standard-error-for-the-mean-of-a-sample-of-binomial-random-variables!): \n",
    "\n",
    "$\\sqrt{\\frac{p(1 - p)}{n}}$\n",
    "\n",
    "for 2 samples this becomes \n",
    "\n",
    "$\\sqrt{ \\frac{ \\hat{p}(1 - \\hat{p})} {n1} + \\frac{ \\hat{p}(1 - \\hat{p})} {n1} }$\n",
    "\n",
    "cfr: page 138 of Statistics in a Nutshell, eq. 5.12 and here http://stattrek.com/hypothesis-test/difference-in-proportions.aspx?Tutorial=AP\n",
    "\n"
   ]
  },
  {
   "cell_type": "markdown",
   "metadata": {},
   "source": [
    "Note that in the Image above, taken from the online version of the book, $\\bar{x}$ should be $\\hat{p}$!!"
   ]
  },
  {
   "cell_type": "code",
   "execution_count": 4,
   "metadata": {
    "collapsed": false
   },
   "outputs": [
    {
     "name": "stdout",
     "output_type": "stream",
     "text": [
      "0.488 409 568 0.0322927107424\n"
     ]
    }
   ],
   "source": [
    "# FB: i am gonna create a little one line function to calculate the standard dev, it is not really needed, but just to show you how you do such a thing\n",
    "sp_stdev= lambda p, n: np.sqrt( p * ( 1 - p ) /n[0] +  p * ( 1 - p )/n[1]  )\n",
    "\n",
    "sp_stdev_2y=sp_stdev((Nt_0+Nt_1)/(n_0+n_1),[n_0,n_1])\n",
    "print P_0, n_0, n_1, sp_stdev_2y"
   ]
  },
  {
   "cell_type": "markdown",
   "metadata": {},
   "source": [
    "#z score: how many standard deviation away from the population parameter is my statistic?\n",
    "\n",
    "#$z=\\frac{P_1-P_0}{\\sigma}$"
   ]
  },
  {
   "cell_type": "code",
   "execution_count": 5,
   "metadata": {
    "collapsed": false
   },
   "outputs": [
    {
     "name": "stdout",
     "output_type": "stream",
     "text": [
      "-1.76510421979\n"
     ]
    }
   ],
   "source": [
    "zscore = lambda p0, p1, s : (p0-p1)/s\n",
    "z_2y = zscore(P_1, P_0, sp_stdev_2y)\n",
    "print z_2y\n"
   ]
  },
  {
   "cell_type": "markdown",
   "metadata": {},
   "source": [
    "note that using p0-p1 or p1-p0 at the numerator is equivalent because the standardizes normal value of z has mean 0 (see image below) so that we can use the absolute value of the z score, or equivalently look for P[Z,z] if z is positive, and P[Z>z] if z is negative.\n",
    "\n",
    "L. Li: rounding to -1.76 rather than -1.77 to get a conservative estimate of confidence, the corresponding alpha/p-value is 0.0392."
   ]
  },
  {
   "cell_type": "markdown",
   "metadata": {},
   "source": [
    "##if $p<\\alpha$ : reject H0\n",
    "\n",
    "##IMPORTANT!! note that this P is not the p-value, but \n",
    "##p-value=1-P"
   ]
  },
  {
   "cell_type": "code",
   "execution_count": 6,
   "metadata": {
    "collapsed": false
   },
   "outputs": [
    {
     "name": "stdout",
     "output_type": "stream",
     "text": [
      "is the p value 0.04 smaller than the critical value 0.05? \n",
      "YES!\n",
      "the Null hypothesis is rejected\n"
     ]
    }
   ],
   "source": [
    "##p-value for crime conviction after 2 years\n",
    "p_2y=0.0392\n",
    "\n",
    "\n",
    "def report_result(p,a):\n",
    "    print 'is the p value {0:.2f} smaller than the critical value {1:.2f}? '.format(p,a)\n",
    "    if p<a:\n",
    "        print \"YES!\"\n",
    "    else: print \"NO!\"\n",
    "    \n",
    "    print 'the Null hypothesis is {}'.format( 'rejected' if p<a  else 'not rejected') \n",
    "\n",
    "    \n",
    "report_result(p_2y,alpha)"
   ]
  },
  {
   "cell_type": "markdown",
   "metadata": {},
   "source": [
    "#Now lets do it with the $\\chi^2$ test"
   ]
  },
  {
   "cell_type": "markdown",
   "metadata": {},
   "source": [
    "#this can also be done with the $\\chi^2$ distribution, see \"Statistics In a Nutshell Chapter 4\", or http://math.hws.edu/javamath/ryan/ChiSquare.html (if you are really just interested in the formula at face value)"
   ]
  },
  {
   "cell_type": "markdown",
   "metadata": {},
   "source": [
    "##the chisq statistics tests a number against the distribution of the following quantity:\n",
    "\n",
    "$$\\chi^2 = \\Sigma \\frac{(observation - expectation)^2}{expectation}$$\n",
    "\n",
    "\n",
    "if we talk about sample fractions  that is \n",
    "\n",
    "$$\\chi^2 = \\Sigma \\frac{(f_{observed} - f_{expectated})^2}{f_{expected}}$$\n",
    "\n",
    "##turns out this quantity is distributed according to a chi square distribution, so if i get the $\\chi^2$ statistics i can compare it to the full chisq distribution and see how far in the tail it is\n",
    "\n",
    "##the trickiest part (not that tricky) is to figure out the table of values. please see Statistics In a Nutshell Chapter 4, for our data for example:"
   ]
  },
  {
   "cell_type": "markdown",
   "metadata": {},
   "source": [
    "|ever convicted of a crime (years 1-3) |     yes   | no   |                   \n",
    "|---------------------------|----------------|------------------|---------------------------|\n",
    "| test sample               | $43.1*5.68$    | $56.9*5.68$      | 568                       |\n",
    "| control sample            | $48.8*4.09$     | $51.2*4.09$      | 409                       |\n",
    "|                           |                |                  |                           |\n",
    "| total                     | 444.4       |  532.6        | 977         |"
   ]
  },
  {
   "cell_type": "markdown",
   "metadata": {},
   "source": [
    "the expected ratio is the product of the total of all rows and all columns, devided by the total"
   ]
  },
  {
   "cell_type": "markdown",
   "metadata": {},
   "source": [
    "expected = $\\frac{row tot * col tot}{total}$"
   ]
  },
  {
   "cell_type": "code",
   "execution_count": 7,
   "metadata": {
    "collapsed": false
   },
   "outputs": [
    {
     "name": "stdout",
     "output_type": "stream",
     "text": [
      "3.11559290673\n"
     ]
    }
   ],
   "source": [
    "Ntot = 977\n",
    "expected = 568*409*444.4*532.6\n",
    "sample_values = [[43.1*5.68,56.9*5.68],[48.8*4.09,51.2*4.09]]\n",
    " \n",
    "chisqstat= lambda N, values, expect : N*((values[0][0]*values[1][1]-values[0][1]*values[1][0])**2)/(expect)\n",
    "\n",
    "print chisqstat(Ntot,  sample_values, expected)"
   ]
  },
  {
   "cell_type": "markdown",
   "metadata": {},
   "source": [
    "3.12 is not larger then 3.84\n",
    "\n",
    "FB: why am i mentioning 3.84?\n",
    "L. Li: because 3.84 is the chi-squared test statistic for 1 degree of freedom (2 classes - 1) at alpha = 0.05\n",
    "\n",
    "please  state what that means in terms of your hypothesis in a markdown cell below!"
   ]
  },
  {
   "cell_type": "markdown",
   "metadata": {
    "collapsed": true
   },
   "source": [
    "3.12 < 3.84, therefore, we cannot reject the null hypothesis at the 95% confidence level; however, 3.12 > 2.706 which is the threshold for the 90% confidence level. As consistent with the findings in the paper, the statistical significance level of 10% is upheld on an impact of the program on future crime convictions (program decreases probability of crime conviction)."
   ]
  }
 ],
 "metadata": {
  "kernelspec": {
   "display_name": "Python 2",
   "language": "python",
   "name": "python2"
  },
  "language_info": {
   "codemirror_mode": {
    "name": "ipython",
    "version": 2
   },
   "file_extension": ".py",
   "mimetype": "text/x-python",
   "name": "python",
   "nbconvert_exporter": "python",
   "pygments_lexer": "ipython2",
   "version": "2.7.10"
  }
 },
 "nbformat": 4,
 "nbformat_minor": 0
}
