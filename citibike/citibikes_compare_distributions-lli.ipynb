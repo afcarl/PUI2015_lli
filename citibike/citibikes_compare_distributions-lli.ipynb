{
 "cells": [
  {
   "cell_type": "markdown",
   "metadata": {
    "collapsed": true
   },
   "source": [
    "#Assignment 1:\n",
    "    test if the distribution of ages is the same for \n",
    "    \n",
    "    1) male and female riders\n",
    "    \n",
    "    2) day and night riders\n",
    "    \n",
    "    use 3 tests: KS, Pearson's, Spearman's"
   ]
  },
  {
   "cell_type": "markdown",
   "metadata": {},
   "source": [
    "my usual imports and setups"
   ]
  },
  {
   "cell_type": "code",
   "execution_count": 1,
   "metadata": {
    "collapsed": false,
    "scrolled": true
   },
   "outputs": [
    {
     "name": "stdout",
     "output_type": "stream",
     "text": [
      "Populating the interactive namespace from numpy and matplotlib\n"
     ]
    }
   ],
   "source": [
    "# Import packages\n",
    "import pylab as pl\n",
    "import pandas as pd\n",
    "import numpy as np\n",
    "import datetime as dt\n",
    "%pylab inline"
   ]
  },
  {
   "cell_type": "markdown",
   "metadata": {},
   "source": [
    "I am reading in data from January 2015. It would be a good idea to use data from warmer months, since there are more riders in the warm weather and the more data the smaller the STATISTICAL NOISE. If you are ambitious you can use data from multiple months, thus addressing systematic errors as well"
   ]
  },
  {
   "cell_type": "code",
   "execution_count": 2,
   "metadata": {
    "collapsed": false,
    "scrolled": false
   },
   "outputs": [
    {
     "name": "stdout",
     "output_type": "stream",
     "text": [
      "Index([u'tripduration', u'starttime', u'stoptime', u'start station id',\n",
      "       u'start station name', u'start station latitude',\n",
      "       u'start station longitude', u'end station id', u'end station name',\n",
      "       u'end station latitude', u'end station longitude', u'bikeid',\n",
      "       u'usertype', u'birth year', u'gender'],\n",
      "      dtype='object')\n"
     ]
    }
   ],
   "source": [
    "# Load September 2014 data in Pandas dataframe\n",
    "import requests, zipfile, StringIO\n",
    "r = requests.get('https://s3.amazonaws.com/tripdata/201409-citibike-tripdata.zip')\n",
    "z = zipfile.ZipFile(StringIO.StringIO(r.content))\n",
    "df = pd.read_csv(z.open('201409-citibike-tripdata.csv'))\n",
    "\n",
    "print df.columns"
   ]
  },
  {
   "cell_type": "markdown",
   "metadata": {},
   "source": [
    "#BY GENDER\n",
    "splitting data by gender and extracting the age happens in the cell below"
   ]
  },
  {
   "cell_type": "code",
   "execution_count": 3,
   "metadata": {
    "collapsed": true
   },
   "outputs": [],
   "source": [
    "#df is the dataframe where the content of the csv file is stored\n",
    "df['ageM'] = 2015-df['birth year'][(df['usertype'] == 'Subscriber') & (df['gender'] == 1)]\n",
    "df['ageF'] = 2015-df['birth year'][(df['usertype'] == 'Subscriber') & (df['gender'] == 2)]"
   ]
  },
  {
   "cell_type": "markdown",
   "metadata": {},
   "source": [
    "lets plot age in 5 year bins"
   ]
  },
  {
   "cell_type": "markdown",
   "metadata": {},
   "source": [
    "the next several steps are needed if you want to code up the KS test from scratch. that is for extra credit, so if you do not want to do it you may not need to plot split the distribution in bins and create the cumulative HOWEVER it is a great idea to do it anyways to explore your data viaually! remember Ascombe's quartet!!"
   ]
  },
  {
   "cell_type": "code",
   "execution_count": 4,
   "metadata": {
    "collapsed": false
   },
   "outputs": [
    {
     "data": {
      "text/plain": [
       "<matplotlib.axes._subplots.AxesSubplot at 0x10ffde6d0>"
      ]
     },
     "execution_count": 4,
     "metadata": {},
     "output_type": "execute_result"
    },
    {
     "data": {
      "image/png": "[encoded data removed]",
      "text/plain": [
       "<matplotlib.figure.Figure at 0x11d929390>"
      ]
     },
     "metadata": {},
     "output_type": "display_data"
    },
    {
     "data": {
      "image/png": "[encoded data removed]",
      "text/plain": [
       "<matplotlib.figure.Figure at 0x10ffb3310>"
      ]
     },
     "metadata": {},
     "output_type": "display_data"
    }
   ],
   "source": [
    "bins = np.arange(10, 99, 1)\n",
    "df.ageM.groupby(pd.cut(df.ageM, bins)).agg([count_nonzero]).plot(kind='bar')\n",
    "df.ageF.groupby(pd.cut(df.ageF, bins)).agg([count_nonzero]).plot(kind='bar')"
   ]
  },
  {
   "cell_type": "markdown",
   "metadata": {},
   "source": [
    "this is how the cumulative distributions look like.  Notice that i am normalizing them! if i want to reat an observed distribution like a probablility distribution i have to normalize it"
   ]
  },
  {
   "cell_type": "code",
   "execution_count": 5,
   "metadata": {
    "collapsed": false,
    "scrolled": false
   },
   "outputs": [
    {
     "name": "stdout",
     "output_type": "stream",
     "text": [
      "          count_nonzero\n",
      "ageM                   \n",
      "(10, 11]            NaN\n",
      "(11, 12]            NaN\n",
      "(12, 13]            NaN\n",
      "(13, 14]            NaN\n",
      "(14, 15]            NaN\n",
      "(15, 16]            NaN\n",
      "(16, 17]       0.000327\n",
      "(17, 18]       0.001006\n",
      "(18, 19]       0.000245\n",
      "(19, 20]       0.002723\n",
      "(20, 21]       0.002031\n",
      "(21, 22]       0.001395\n",
      "(22, 23]       0.007379\n",
      "(23, 24]       0.012890\n",
      "(24, 25]       0.015981\n",
      "(25, 26]       0.023602\n",
      "(26, 27]       0.029957\n",
      "(27, 28]       0.036820\n",
      "(28, 29]       0.048115\n",
      "(29, 30]       0.061171\n",
      "(30, 31]       0.067064\n",
      "(31, 32]       0.070300\n",
      "(32, 33]       0.073793\n",
      "(33, 34]       0.074800\n",
      "(34, 35]       0.076577\n",
      "(35, 36]       0.076776\n",
      "(36, 37]       0.076329\n",
      "(37, 38]       0.074712\n",
      "(38, 39]       0.069762\n",
      "(39, 40]       0.061281\n",
      "...                 ...\n",
      "(68, 69]       0.004016\n",
      "(69, 70]       0.003643\n",
      "(70, 71]       0.002740\n",
      "(71, 72]       0.002900\n",
      "(72, 73]       0.001739\n",
      "(73, 74]       0.001122\n",
      "(74, 75]       0.000559\n",
      "(75, 76]       0.000349\n",
      "(76, 77]       0.000150\n",
      "(77, 78]       0.000104\n",
      "(78, 79]       0.000098\n",
      "(79, 80]       0.000026\n",
      "(80, 81]            NaN\n",
      "(81, 82]            NaN\n",
      "(82, 83]       0.000044\n",
      "(83, 84]       0.000040\n",
      "(84, 85]            NaN\n",
      "(85, 86]            NaN\n",
      "(86, 87]            NaN\n",
      "(87, 88]            NaN\n",
      "(88, 89]       0.000046\n",
      "(89, 90]            NaN\n",
      "(90, 91]            NaN\n",
      "(91, 92]            NaN\n",
      "(92, 93]            NaN\n",
      "(93, 94]            NaN\n",
      "(94, 95]            NaN\n",
      "(95, 96]            NaN\n",
      "(96, 97]            NaN\n",
      "(97, 98]            NaN\n",
      "\n",
      "[88 rows x 1 columns]\n"
     ]
    },
    {
     "data": {
      "text/plain": [
       "<matplotlib.legend.Legend at 0x110481810>"
      ]
     },
     "execution_count": 5,
     "metadata": {},
     "output_type": "execute_result"
    },
    {
     "data": {
      "image/png": "[encoded data removed]",
      "text/plain": [
       "<matplotlib.figure.Figure at 0x110424e50>"
      ]
     },
     "metadata": {},
     "output_type": "display_data"
    }
   ],
   "source": [
    "#print df.ageS, df.ageS.cumsum()\n",
    "\n",
    "csM=df.ageM.groupby(pd.cut(df.ageM, bins)).agg([count_nonzero]).cumsum()\n",
    "\n",
    "csF=df.ageF.groupby(pd.cut(df.ageF, bins)).agg([count_nonzero]).cumsum()\n",
    "\n",
    "print np.abs(csM / csM.max()-csF / csF.max())\n",
    "\n",
    "pl.plot(bins[:-1] + 5, csM / csM.max(), label = \"M\")\n",
    "pl.plot(bins[:-1] + 5, csF / csF.max(), label = \"F\")\n",
    "pl.legend()"
   ]
  },
  {
   "cell_type": "markdown",
   "metadata": {},
   "source": [
    "they look pretty darn similar! that sets my expectation for the tests to come. if i wanted to code the KS test by hand i woud have everything i need: the normalized cumulative distributions can be subtracted from each other and the max distance can be seeked. \n",
    "\n",
    "Notice that there amay be Nan values you are gonna have to deal with! you can do that for example with a Boolean statementsuch as  df.ageF[~np.isnan(df.ageF)] or you can use numpy functions that deal with Nan values: nansum, nanmean, nanstd..."
   ]
  },
  {
   "cell_type": "markdown",
   "metadata": {},
   "source": [
    "lets run the scipy KS test"
   ]
  },
  {
   "cell_type": "code",
   "execution_count": 6,
   "metadata": {
    "collapsed": false,
    "scrolled": false
   },
   "outputs": [],
   "source": [
    "import scipy.stats"
   ]
  },
  {
   "cell_type": "markdown",
   "metadata": {
    "collapsed": true
   },
   "source": [
    "#KS tests to compare 2 samples\n",
    "\n",
    "http://docs.scipy.org/doc/scipy-0.15.1/reference/generated/scipy.stats.ks_2samp.html\n"
   ]
  },
  {
   "cell_type": "code",
   "execution_count": 7,
   "metadata": {
    "collapsed": false
   },
   "outputs": [
    {
     "name": "stdout",
     "output_type": "stream",
     "text": [
      "Ks_2sampResult(statistic=0.07695305171793726, pvalue=0.0)\n"
     ]
    }
   ],
   "source": [
    "ks=scipy.stats.ks_2samp(df.ageM[~np.isnan(df.ageM)], df.ageF[~np.isnan(df.ageF)])\n",
    "print ks"
   ]
  },
  {
   "cell_type": "markdown",
   "metadata": {},
   "source": [
    "remember: the Null hypothesis is rejected if \n",
    "\n",
    "$D_KS(n1,n2) > c(\\alpha) \\sqrt{\\frac{(n1+n2)}{n1n2}}$\n",
    "\n",
    "where $c(\\alpha$) is the inverse of the KS distribution, and you do not have to know how to get that cause there are tables that list critical values!! \n",
    "\n",
    "http://www.real-statistics.com/tests-normality-and-symmetry/statistical-tests-normality-symmetry/kolmogorov-smirnov-test/kolmogorov-distribution/\n",
    "\n",
    "but scipy is already giving you the p-value, s you do not have to worry about it i am still giving you the table FWI and if you want to do the coding of the KS test by hand\n"
   ]
  },
  {
   "cell_type": "markdown",
   "metadata": {
    "collapsed": false
   },
   "source": [
    "#Have you chosen your significance level yet?? you should do it first thing!"
   ]
  },
  {
   "cell_type": "markdown",
   "metadata": {
    "collapsed": false
   },
   "source": [
    "Yes, I choose my sigificance level at 0.05 and the p-value (0.0) < 0.05. Therefore, I can reject the null hypothesis that the two samples are pulled from the same underlying distribution. "
   ]
  },
  {
   "cell_type": "markdown",
   "metadata": {},
   "source": [
    "# OPTIONAL EXTRA CREDIT: code up KS test manually in Python\n"
   ]
  },
  {
   "cell_type": "code",
   "execution_count": 8,
   "metadata": {
    "collapsed": false
   },
   "outputs": [
    {
     "name": "stdout",
     "output_type": "stream",
     "text": [
      "statistic  0.0768  > critical value 0.0\n",
      "Women and men do not appear to be drawn from the same distribution\n"
     ]
    }
   ],
   "source": [
    "# Find the max absolute value distance between the two CDFs\n",
    "diffs = np.abs(csM / csM.max()-csF / csF.max())\n",
    "\n",
    "# Calculate critical value for sig. level 0.05\n",
    "# http://www.real-statistics.com/statistics-tables/kolmogorov-smirnov-table/\n",
    "nM = np.count_nonzero(~np.isnan(df.ageM))\n",
    "nF = np.count_nonzero(~np.isnan(df.ageF))\n",
    "\n",
    "crit_val = 1.36*sqrt((nM+nF)/(nM*nF))\n",
    "\n",
    "print 'statistic ', round(nanmax(diffs),4) , ' > critical value', crit_val\n",
    "print 'Women and men do not appear to be drawn from the same distribution'\n",
    "# Note: it seems very easy to reject the null hypothesis with this this test\n",
    "#    given large sample sizes"
   ]
  },
  {
   "cell_type": "markdown",
   "metadata": {},
   "source": [
    "#Pearson's  test for correlation\n",
    "\n",
    "http://docs.scipy.org/doc/scipy/reference/generated/scipy.stats.pearsonr.html#scipy.stats.pearsonr\n",
    "\n"
   ]
  },
  {
   "cell_type": "code",
   "execution_count": 9,
   "metadata": {
    "collapsed": false
   },
   "outputs": [
    {
     "name": "stdout",
     "output_type": "stream",
     "text": [
      "Pearson's correlation coefficient:  [ 0.81049774]\n",
      "p-value:  [  1.10883772e-21]\n",
      "\n",
      "We can reject the null hypothesis that there is no correlation between the two samples.\n",
      "\n",
      "The very low p-value represents the small probability that uncorrelated systems produced this correlation coeff.\n"
     ]
    }
   ],
   "source": [
    "#please perform the Pearson's test and tell me what you find\n",
    "\n",
    "# Set NaNs to 0 for ages not represented in each partition of the data set\n",
    "csM[np.isnan(csM)] = 0\n",
    "csF[np.isnan(csF)] = 0\n",
    "\n",
    "pear = scipy.stats.pearsonr(csM, csF)\n",
    "print 'Pearson\\'s correlation coefficient: ', pear[0]\n",
    "print 'p-value: ', pear[1]\n",
    "print\n",
    "print 'We can reject the null hypothesis that there is no correlation between the two samples.\\n'\n",
    "print 'The very low p-value represents the small probability that uncorrelated systems produced this correlation coeff.'"
   ]
  },
  {
   "cell_type": "markdown",
   "metadata": {},
   "source": [
    "#Spearman's  test for correlation\n",
    "\n",
    "http://docs.scipy.org/doc/scipy/reference/generated/scipy.stats.spearmanr.html#scipy.stats.spearmanr"
   ]
  },
  {
   "cell_type": "code",
   "execution_count": 10,
   "metadata": {
    "collapsed": false
   },
   "outputs": [
    {
     "name": "stdout",
     "output_type": "stream",
     "text": [
      "Spearmman's correlation coefficient:  0.690711706791\n",
      "p-value:  9.58292603253e-14\n",
      "\n",
      "We can reject the null hypothesis that there is no correlation between the two samples.\n",
      "\n",
      "The very low p-value represents the small probability that uncorrelated systems produced this correlation coeff.\n"
     ]
    }
   ],
   "source": [
    "#please perform the Spearman's test and tell me what you find\n",
    "# This test does NOT assume that the two samples are normally distributed\n",
    "\n",
    "spear = scipy.stats.spearmanr(csM, csF)\n",
    "print 'Spearmman\\'s correlation coefficient: ', spear[0]\n",
    "print 'p-value: ', spear[1]\n",
    "print\n",
    "print 'We can reject the null hypothesis that there is no correlation between the two samples.\\n'\n",
    "print 'The very low p-value represents the small probability that uncorrelated systems produced this correlation coeff.'"
   ]
  },
  {
   "cell_type": "markdown",
   "metadata": {},
   "source": [
    "##please comment on the numbers that you get in the light of the scipy manual: what is rerutned? what does it mean??"
   ]
  },
  {
   "cell_type": "markdown",
   "metadata": {},
   "source": [
    "##DO THE SAME FOR THE DISTRIBUTION OF RIDERS DURING THE DAY VS DURING THE NIGHT!\n",
    "\n",
    "hint: remember how I converted the starttime last time in my own citibikes notebook into units that are easy to read. \n",
    "df['mystarttime'] = ...\n",
    "then you can use something like\n",
    "df['mystarttime'].dt.hour"
   ]
  },
  {
   "cell_type": "markdown",
   "metadata": {},
   "source": [
    "# KS Test"
   ]
  },
  {
   "cell_type": "code",
   "execution_count": 11,
   "metadata": {
    "collapsed": false
   },
   "outputs": [
    {
     "name": "stdout",
     "output_type": "stream",
     "text": [
      "0    0\n",
      "1    0\n",
      "2    0\n",
      "3    0\n",
      "4    0\n",
      "Name: starthour, dtype: int64\n"
     ]
    }
   ],
   "source": [
    "# Convert starttime to datetime data type, then get hour only\n",
    "df['starttime2'] = pd.to_datetime(df['starttime'])\n",
    "df['starthour'] = [start.hour for start in df['starttime2']]\n",
    "print df['starthour'].head()\n",
    "#print df['starthour'].describe()"
   ]
  },
  {
   "cell_type": "code",
   "execution_count": 12,
   "metadata": {
    "collapsed": false
   },
   "outputs": [],
   "source": [
    "# Split the data by morning (5am-11am) and night (5pm-12am) riders, keeping same restrictions on Subscribers only\n",
    "df['ageAM'] = 2015-df['birth year'][(df['usertype'] == 'Subscriber') & ( df['starthour'] >= 5) & (df['starthour'] <= 11)]\n",
    "df['agePM'] = 2015-df['birth year'][(df['usertype'] == 'Subscriber') & (df['starthour'] >= 17) ]"
   ]
  },
  {
   "cell_type": "code",
   "execution_count": 13,
   "metadata": {
    "collapsed": false
   },
   "outputs": [
    {
     "data": {
      "text/plain": [
       "<matplotlib.axes._subplots.AxesSubplot at 0x110362350>"
      ]
     },
     "execution_count": 13,
     "metadata": {},
     "output_type": "execute_result"
    },
    {
     "data": {
      "image/png": "[encoded data removed]",
      "text/plain": [
       "<matplotlib.figure.Figure at 0x114745350>"
      ]
     },
     "metadata": {},
     "output_type": "display_data"
    },
    {
     "data": {
      "image/png": "[encoded data removed]",
      "text/plain": [
       "<matplotlib.figure.Figure at 0x110362fd0>"
      ]
     },
     "metadata": {},
     "output_type": "display_data"
    }
   ],
   "source": [
    "# Plot histograms\n",
    "bins = np.arange(0, 99, 5)\n",
    "df.ageAM.groupby(pd.cut(df.ageAM, bins)).agg([count_nonzero]).plot(kind='bar')\n",
    "df.agePM.groupby(pd.cut(df.agePM, bins)).agg([count_nonzero]).plot(kind='bar')"
   ]
  },
  {
   "cell_type": "code",
   "execution_count": 14,
   "metadata": {
    "collapsed": false
   },
   "outputs": [
    {
     "data": {
      "text/plain": [
       "<matplotlib.legend.Legend at 0x110bc2850>"
      ]
     },
     "execution_count": 14,
     "metadata": {},
     "output_type": "execute_result"
    },
    {
     "data": {
      "image/png": "[encoded data removed]",
      "text/plain": [
       "<matplotlib.figure.Figure at 0x110bc2110>"
      ]
     },
     "metadata": {},
     "output_type": "display_data"
    }
   ],
   "source": [
    "# Calculate CDFs and plot\n",
    "csAM=df.ageAM.groupby(pd.cut(df.ageAM, bins)).agg([count_nonzero]).cumsum()\n",
    "csPM=df.agePM.groupby(pd.cut(df.agePM, bins)).agg([count_nonzero]).cumsum()\n",
    "\n",
    "pl.plot(bins[:-1] + 5, csAM / csAM.max(), label = \"AM\")\n",
    "pl.plot(bins[:-1] + 5, csPM / csPM.max(), label = \"PM\")\n",
    "pl.legend()"
   ]
  },
  {
   "cell_type": "code",
   "execution_count": 15,
   "metadata": {
    "collapsed": false
   },
   "outputs": [
    {
     "name": "stdout",
     "output_type": "stream",
     "text": [
      "Ks_2sampResult(statistic=0.093847436253994276, pvalue=0.0)\n",
      "AM riders and PM riders do not appear to be drawn from the same distribution\n"
     ]
    }
   ],
   "source": [
    "# Perform KS test\n",
    "ks=scipy.stats.ks_2samp(df.ageAM[~np.isnan(df.ageAM)], df.agePM[~np.isnan(df.agePM)])\n",
    "print ks\n",
    "\n",
    "print 'AM riders and PM riders do not appear to be drawn from the same distribution'"
   ]
  },
  {
   "cell_type": "markdown",
   "metadata": {},
   "source": [
    "# Pearson's test of correlation"
   ]
  },
  {
   "cell_type": "code",
   "execution_count": 16,
   "metadata": {
    "collapsed": false
   },
   "outputs": [
    {
     "name": "stdout",
     "output_type": "stream",
     "text": [
      "Pearson's correlation coefficient:  [ 0.86032738]\n",
      "p-value:  [  2.30625071e-06]\n",
      "\n",
      "We can reject the null hypothesis that there is no correlation between the two samples.\n",
      "\n",
      "The very low p-value represents the small probability that uncorrelated systems produced this correlation coeff.\n"
     ]
    }
   ],
   "source": [
    "# Set NaNs to 0 for ages not represented in each partition of the data set\n",
    "csAM[np.isnan(csAM)] = 0\n",
    "csPM[np.isnan(csPM)] = 0\n",
    "\n",
    "\n",
    "pear = scipy.stats.pearsonr(csAM, csPM)\n",
    "print 'Pearson\\'s correlation coefficient: ', pear[0]\n",
    "print 'p-value: ', pear[1]\n",
    "print\n",
    "print 'We can reject the null hypothesis that there is no correlation between the two samples.\\n'\n",
    "print 'The very low p-value represents the small probability that uncorrelated systems produced this correlation coeff.'"
   ]
  },
  {
   "cell_type": "markdown",
   "metadata": {},
   "source": [
    "#Spearman's test of correlation"
   ]
  },
  {
   "cell_type": "code",
   "execution_count": 145,
   "metadata": {
    "collapsed": false
   },
   "outputs": [
    {
     "name": "stdout",
     "output_type": "stream",
     "text": [
      "Spearmman's correlation coefficient:  0.774936520622\n",
      "p-value:  9.76219904233e-05\n",
      "\n",
      "We can reject the null hypothesis that there is no correlation between the two samples.\n",
      "\n",
      "The very low p-value represents the small probability that uncorrelated systems produced this correlation coeff.\n"
     ]
    }
   ],
   "source": [
    "# This test does NOT assume that the two samples are normally distributed\n",
    "\n",
    "spear = scipy.stats.spearmanr(csAM, csPM)\n",
    "print 'Spearmman\\'s correlation coefficient: ', spear[0]\n",
    "print 'p-value: ', spear[1]\n",
    "print\n",
    "print 'We can reject the null hypothesis that there is no correlation between the two samples.\\n'\n",
    "print 'The very low p-value represents the small probability that uncorrelated systems produced this correlation coeff.'"
   ]
  }
 ],
 "metadata": {
  "kernelspec": {
   "display_name": "Python 2",
   "language": "python",
   "name": "python2"
  },
  "language_info": {
   "codemirror_mode": {
    "name": "ipython",
    "version": 2
   },
   "file_extension": ".py",
   "mimetype": "text/x-python",
   "name": "python",
   "nbconvert_exporter": "python",
   "pygments_lexer": "ipython2",
   "version": "2.7.10"
  }
 },
 "nbformat": 4,
 "nbformat_minor": 0
}
