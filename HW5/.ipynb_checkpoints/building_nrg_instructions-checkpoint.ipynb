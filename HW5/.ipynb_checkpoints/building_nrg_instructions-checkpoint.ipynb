{
 "cells": [
  {
   "cell_type": "code",
   "execution_count": 1,
   "metadata": {
    "collapsed": false
   },
   "outputs": [
    {
     "name": "stdout",
     "output_type": "stream",
     "text": [
      "Populating the interactive namespace from numpy and matplotlib\n"
     ]
    }
   ],
   "source": [
    "import geopandas as gp\n",
    "import pandas as pd\n",
    "import os\n",
    "import json\n",
    "import pylab as pl\n",
    "import statsmodels.api as sm\n",
    "\n",
    "%pylab inline"
   ]
  },
  {
   "cell_type": "markdown",
   "metadata": {},
   "source": [
    "I am using geopanda. that is **not required** for this particular exercise, but geopand works with geospacial data: the shape files that we get from pluto for example.\n",
    "\n",
    "PLEASE REMEMBER: seed your random functions if you need to use any, label your axes clearly, comment your code, use PEP8!\n"
   ]
  },
  {
   "cell_type": "markdown",
   "metadata": {},
   "source": [
    "##We will use 2 different datasets.\n",
    "##an interesting urban question is \"can we measure and predict energy use based on observables that are easier to be acquired\". for example the urban observatory at CUSP can monitor lights: they are a realtively easy observable. All you need is a camera, and a pipeline to process your data. But how does the light coming from a window relate to the total energy consumption? We generally postulate that light is a proxy for occupancy, and that occupancy is a good predictor of energy consumption.\n",
    "##so let's test if the last link holds. If we have data on the energy consumed by a __building__ how well does that relate to the number of units in the building?\n",
    "\n",
    "## data on energy consumption can be found here for the city of NY https://data.cityofnewyork.us/Environment/Energy-and-Water-Data-Disclosure-for-Local-Law-84-/rgfe-8y2z  "
   ]
  },
  {
   "cell_type": "code",
   "execution_count": 2,
   "metadata": {
    "collapsed": false,
    "scrolled": true
   },
   "outputs": [
    {
     "name": "stdout",
     "output_type": "stream",
     "text": [
      "Index([u'NYC Borough, Block, and Lot (BBL)', u'Co-reported BBL Status',\n",
      "       u'BBLs Co-reported',\n",
      "       u'Reported NYC Building Identificaiton Numbers (BINs)',\n",
      "       u'Street Number', u'Street Name', u'Borough', u'Zip Code',\n",
      "       u'DOF Benchmarking Submission Status', u'Site EUI(kBtu/ft2)',\n",
      "       u'Weather Normalized Site EUI(kBtu/ft2)', u'Source EUI(kBtu/ft2)',\n",
      "       u'Weather Normalized Source EUI(kBtu/ft2)',\n",
      "       u'Municipally Supplied Potable Water - Indoor Intensity (gal/ft�_)',\n",
      "       u'Automatic Water Benchmarking Eligible', u'Reported Water Method',\n",
      "       u'ENERGY STAR Score', u'Total GHG Emissions(MtCO2e)',\n",
      "       u'Direct GHG Emissions(MtCO2e)', u'Indirect GHG Emissions(MtCO2e)',\n",
      "       u'Reported Property Floor Area (Building(s)) (ft�_)',\n",
      "       u'DOF Property Floor Area (Buildngs and Parking)(ft2)',\n",
      "       u'Primary Property Type - Self Selected', u'DOF Number of Buildings'],\n",
      "      dtype='object')\n"
     ]
    }
   ],
   "source": [
    "nrg = gp.GeoDataFrame.from_csv(os.getenv('PUIDATA')+\"/Energy_and_Water_Data_Disclosure_for_Local_Law_84__2013_.csv\")\n",
    "print nrg.columns\n"
   ]
  },
  {
   "cell_type": "markdown",
   "metadata": {},
   "source": [
    "#however this datasets does not have the number of units. We can find that in the Pluto dataset.\n",
    "reading in the Pluto data for manhattan, which will give me the number of units ber building   Manhattan/MNMapPLUTO.shp"
   ]
  },
  {
   "cell_type": "code",
   "execution_count": null,
   "metadata": {
    "collapsed": false
   },
   "outputs": [],
   "source": [
    "bsize = gp.GeoDataFrame.from_file(os.getenv('PUIDATA')+\"/Manhattan/MNMapPLUTO.shp\")\n",
    "print bsize.columns\n",
    "\n",
    "print bsize.head()"
   ]
  },
  {
   "cell_type": "markdown",
   "metadata": {},
   "source": [
    "in pandas scatter_matrix will plot each column agains each other. that is a great way to begin inspecting your data (though be careful cause it is computationally comsuming for large datasets) \n",
    "\n"
   ]
  },
  {
   "cell_type": "code",
   "execution_count": null,
   "metadata": {
    "collapsed": false
   },
   "outputs": [],
   "source": [
    "from pandas.tools.plotting import scatter_matrix\n",
    "scatter_matrix (nrg, s=300, figsize=(16, 16), diagonal='kde')\n",
    "\n"
   ]
  },
  {
   "cell_type": "markdown",
   "metadata": {},
   "source": [
    "it will show me correlations between variables, but it will also show me what can and \n",
    "cannot be plotted trivially in my dataset! here only a few columns can be plotted: \n",
    "those that contain only numbers (and possibly NaN's), but most columns contain rows that cannot be converted to float (e.g. entries like 'See Primary BBL' in several rows for the energy dataframe 'Site EUI(kBtu/ft2) ' column) , so Pandas refuses to plot them, cause it does not know what to do with those entries. \n",
    "The columns I am interested in are in fact u'Site EUI(kBtu/ft2)' which is a measure of the energy consumed PER SQ FOOT by a building, and then the building area: for eg.       u'Reported Property Floor Area (Building(s)) (ft²)'. Neither gets plotted: i need to remove all values that cannot conver to float in order to use the columns and convert them to float arrays and do math with them. \n",
    "\n",
    "Below I created a function that returns True if what is passed as argument can be converted to a float, and False otherwise. I do it with the Try/Except structure. it is a very useful python functionality that you should look into.  \n",
    "this has to be done entry by entry: if you gve t a series you get error \"cannot convert the series to <type 'float'>\"\n",
    "\n",
    "However you can pass it a whole array by using it in conjunction with\n",
    "np.vectorize (look up the syntax!) which will implement a for loop for you under the hood to pass the series entry by entry to your function.\n"
   ]
  },
  {
   "cell_type": "code",
   "execution_count": null,
   "metadata": {
    "collapsed": false
   },
   "outputs": [],
   "source": [
    "\n",
    "def canconvert(mydata):\n",
    "    try :\n",
    "        float(mydata)\n",
    "        return True\n",
    "    except ValueError:\n",
    "        return False\n",
    "    "
   ]
  },
  {
   "cell_type": "markdown",
   "metadata": {},
   "source": [
    "Now for every column i care about i can create an array, call it for eg. indx, of True and False (a Boolean array) that i can use as an index to pick entries that \n",
    "I want to use from my arrays of interest. I can replace the entries that failed to be converted to 'NaN'\n",
    "\n",
    "(because my function return Trues when I can convert and False otherwise i actuallly want the complementary array: ~indx)"
   ]
  },
  {
   "cell_type": "code",
   "execution_count": null,
   "metadata": {
    "collapsed": false
   },
   "outputs": [],
   "source": [
    "# Vectorize the function\n",
    "convertall = np.vectorize(canconvert)\n",
    "\n",
    "# Show how many rows are convertable from total\n",
    "print 'Total rows: ', len(nrg.index)\n",
    "print 'Convertable rows: ', len(nrg[convertall(nrg['Site EUI(kBtu/ft2)'])].index)\n",
    "\n",
    "# Create index of valid values\n",
    "indx = nrg[convertall(nrg['Site EUI(kBtu/ft2)'])].index.values"
   ]
  },
  {
   "cell_type": "code",
   "execution_count": 7,
   "metadata": {
    "collapsed": false
   },
   "outputs": [
    {
     "name": "stderr",
     "output_type": "stream",
     "text": [
      "/usr/local/lib/python2.7/site-packages/IPython/kernel/__main__.py:1: SettingWithCopyWarning: \n",
      "A value is trying to be set on a copy of a slice from a DataFrame\n",
      "\n",
      "See the the caveats in the documentation: http://pandas.pydata.org/pandas-docs/stable/indexing.html#indexing-view-versus-copy\n",
      "  if __name__ == '__main__':\n"
     ]
    }
   ],
   "source": [
    "nrg['Site EUI(kBtu/ft2)'][~nrg.index.isin(indx)]=float('NaN')\n",
    "##etc etc... for all columns you care about"
   ]
  },
  {
   "cell_type": "code",
   "execution_count": 8,
   "metadata": {
    "collapsed": false
   },
   "outputs": [
    {
     "name": "stdout",
     "output_type": "stream",
     "text": [
      "Record Number\n",
      "16099      180.5\n",
      "500         82.1\n",
      "5017       137.7\n",
      "5116       103.2\n",
      "363         74.0\n",
      "6876        36.4\n",
      "10714      114.8\n",
      "1214       130.0\n",
      "1544       138.3\n",
      "1905     56909.0\n",
      "2301        88.2\n",
      "15059       15.7\n",
      "674          NaN\n",
      "2537        85.7\n",
      "2841       195.7\n",
      "2945        79.1\n",
      "15120      144.1\n",
      "3053       200.9\n",
      "4233       104.6\n",
      "4777        86.7\n",
      "4912       102.1\n",
      "5210        21.2\n",
      "5295        78.3\n",
      "1575         NaN\n",
      "15025       55.2\n",
      "4208        83.2\n",
      "4799       145.1\n",
      "1568        59.4\n",
      "5427        88.7\n",
      "5476       100.8\n",
      "          ...   \n",
      "14559        NaN\n",
      "14560        NaN\n",
      "14748        NaN\n",
      "14753        NaN\n",
      "13582        NaN\n",
      "13947        NaN\n",
      "14777        NaN\n",
      "14779        NaN\n",
      "14409        NaN\n",
      "13262        NaN\n",
      "13261        NaN\n",
      "12523        NaN\n",
      "12529        NaN\n",
      "12536        NaN\n",
      "13929        NaN\n",
      "13944        NaN\n",
      "13945        NaN\n",
      "13821        NaN\n",
      "13829        NaN\n",
      "13837        NaN\n",
      "13838        NaN\n",
      "13847        NaN\n",
      "14352        NaN\n",
      "12976        NaN\n",
      "12978        NaN\n",
      "12984        NaN\n",
      "12987        NaN\n",
      "12988        NaN\n",
      "13472        NaN\n",
      "13482        NaN\n",
      "Name: Site EUI(kBtu/ft2), dtype: float64\n",
      "0        1002760020\n",
      "1        1002280022\n",
      "2        1005900056\n",
      "3        1005890030\n",
      "4        1005310056\n",
      "5        1011860040\n",
      "6        1004940026\n",
      "7        1005580017\n",
      "8        1001807505\n",
      "9        1005820050\n",
      "10       1004680049\n",
      "11       1008090073\n",
      "12       1002040034\n",
      "13       1002270019\n",
      "14       1001367504\n",
      "15       1006120028\n",
      "16       1004230028\n",
      "17       1004100032\n",
      "18       1008980025\n",
      "19       1008970053\n",
      "20       1007870058\n",
      "21       1003850030\n",
      "22       1003870119\n",
      "23       1009110055\n",
      "24       1004070039\n",
      "25       1004360002\n",
      "26       1008850079\n",
      "27       1007760001\n",
      "28       1000190013\n",
      "29       1006220070\n",
      "            ...    \n",
      "42756    1017090031\n",
      "42757    1011710069\n",
      "42758    1011090100\n",
      "42759    1015320036\n",
      "42760    1010517502\n",
      "42761    1006990009\n",
      "42762    1007460059\n",
      "42763    1007760033\n",
      "42764    1002460005\n",
      "42765    1019120043\n",
      "42766    1018520020\n",
      "42767    1017270067\n",
      "42768    1007050050\n",
      "42769    1022150806\n",
      "42770    1005310016\n",
      "42771    1017800075\n",
      "42772    1003010011\n",
      "42773    1016527501\n",
      "42774    1004930030\n",
      "42775    1010370038\n",
      "42776    1006240008\n",
      "42777    1010170004\n",
      "42778    1010370030\n",
      "42779    1007020125\n",
      "42780    1013730001\n",
      "42781    1013730030\n",
      "42782    1018447501\n",
      "42783    1020957501\n",
      "42784    1020677501\n",
      "42785    1014737504\n",
      "Name: BBL, dtype: float64\n"
     ]
    }
   ],
   "source": [
    "##check that your conversion worked: e.g.\n",
    "print nrg['Site EUI(kBtu/ft2)'].astype(float)\n",
    "#[...] check all columns you care about in both datasets. \n",
    "#Nan's are ok, but you must not get an error when you try the conversion\n",
    "\n",
    "#the Pluto data is much better at not using spurious entries for numerical value columns. \n",
    "#but check you can use the columns you want (LL: yes, we can)\n",
    "print bsize.BBL.astype(float)\n",
    "#notice i can use the attribute notation to refer to columns in bsize, \n",
    "#cause the column names do not have spaces!"
   ]
  },
  {
   "cell_type": "markdown",
   "metadata": {},
   "source": [
    "#TO MERGE THE DATASET WE NEED A COMMON COLUMN\n",
    "here is where you want to merge the datasets. You need a common column: the building id BBL\n",
    "However the name of this variable (column) in the Energy dataset is     'NYC Borough, Block, and Lot (BBL)'. create a column 'BBL' in the nrg dataset to pass it to the 'on' keyword argument of the merge pandas method: pd.merge(..... on=['BBL']) will use the common column 'BBL' to join the information from the 2 datasets for each BBL value (check out the complete syntax!) "
   ]
  },
  {
   "cell_type": "code",
   "execution_count": 9,
   "metadata": {
    "collapsed": false
   },
   "outputs": [
    {
     "name": "stderr",
     "output_type": "stream",
     "text": [
      "/usr/local/lib/python2.7/site-packages/pandas/core/index.py:1695: UnicodeWarning: Unicode equal comparison failed to convert both arguments to Unicode - interpreting them as being unequal\n",
      "  indexer = self._engine.get_indexer(target.values)\n",
      "/usr/local/lib/python2.7/site-packages/pandas/core/index.py:1049: UnicodeWarning: Unicode equal comparison failed to convert both arguments to Unicode - interpreting them as being unequal\n",
      "  return key in self._engine\n"
     ]
    },
    {
     "name": "stdout",
     "output_type": "stream",
     "text": [
      "Joined table:  6545\n",
      "Bsize table:  42786\n",
      "Nrg table:  16170\n",
      "\n",
      "Index([                                             u'APPBBL',\n",
      "                                                   u'APPDate',\n",
      "                                                   u'Address',\n",
      "                                                u'AllZoning1',\n",
      "                                                u'AllZoning2',\n",
      "                                                u'AreaSource',\n",
      "                                                u'AssessLand',\n",
      "                                                 u'AssessTot',\n",
      "                                                       u'BBL',\n",
      "                                                  u'BldgArea', \n",
      "       ...\n",
      "                     u'Automatic Water Benchmarking Eligible',\n",
      "                                     u'Reported Water Method',\n",
      "                                         u'ENERGY STAR Score',\n",
      "                               u'Total GHG Emissions(MtCO2e)',\n",
      "                              u'Direct GHG Emissions(MtCO2e)',\n",
      "                            u'Indirect GHG Emissions(MtCO2e)',\n",
      "         u'Reported Property Floor Area (Building(s)) (ft�_)',\n",
      "       u'DOF Property Floor Area (Buildngs and Parking)(ft2)',\n",
      "                     u'Primary Property Type - Self Selected',\n",
      "                                   u'DOF Number of Buildings'],\n",
      "      dtype='object', length=111)\n"
     ]
    }
   ],
   "source": [
    "nrg['BBL'] = nrg['NYC Borough, Block, and Lot (BBL)']\n",
    "bblnrgdata = pd.merge(bsize, nrg, how='inner', on='BBL', suffixes=('_bsize', '_nrg'))\n",
    "\n",
    "print 'Joined table: ', len(bblnrgdata.index)\n",
    "print 'Bsize table: ', len(bsize.index)\n",
    "print 'Nrg table: ', len(nrg.index)\n",
    "print\n",
    "print bblnrgdata.columns"
   ]
  },
  {
   "cell_type": "markdown",
   "metadata": {},
   "source": [
    "once you have the dataframe with all the info you want, you want to plot \n",
    "Energy vs Number of Units in the Building. \n",
    "Remember: Energy TOTAL, not per sq ft...\n",
    "Here you can choose what you think makes more sense for the number of units: all units, residential units...\n",
    "make a 'natural' scale scatter plot first it will look really bad cause all the datapoints are at very low Unit numbers while the Unit number range actually goes up to 8000.\n",
    "perhaps zoom into the region where most points are by cutting your x and y axis plotted: e,g, use xlim=(1000,1e10), ylim=(1,1000), where the numbers to be plugged in depend on exactly what you chose to plot"
   ]
  },
  {
   "cell_type": "code",
   "execution_count": 10,
   "metadata": {
    "collapsed": false
   },
   "outputs": [
    {
     "name": "stdout",
     "output_type": "stream",
     "text": [
      "Index([                                             u'APPBBL',\n",
      "                                                   u'APPDate',\n",
      "                                                   u'Address',\n",
      "                                                u'AllZoning1',\n",
      "                                                u'AllZoning2',\n",
      "                                                u'AreaSource',\n",
      "                                                u'AssessLand',\n",
      "                                                 u'AssessTot',\n",
      "                                                       u'BBL',\n",
      "                                                  u'BldgArea', \n",
      "       ...\n",
      "                     u'Automatic Water Benchmarking Eligible',\n",
      "                                     u'Reported Water Method',\n",
      "                                         u'ENERGY STAR Score',\n",
      "                               u'Total GHG Emissions(MtCO2e)',\n",
      "                              u'Direct GHG Emissions(MtCO2e)',\n",
      "                            u'Indirect GHG Emissions(MtCO2e)',\n",
      "          u'Reported Property Floor Area (Building(s)) (ft_)',\n",
      "       u'DOF Property Floor Area (Buildngs and Parking)(ft2)',\n",
      "                     u'Primary Property Type - Self Selected',\n",
      "                                   u'DOF Number of Buildings'],\n",
      "      dtype='object', length=111)\n"
     ]
    }
   ],
   "source": [
    "# Ignore special characters in dataframe column names\n",
    "bblnrgdata.columns = bblnrgdata.columns.str.decode('ascii', 'ignore')\n",
    "print bblnrgdata.columns"
   ]
  },
  {
   "cell_type": "code",
   "execution_count": 11,
   "metadata": {
    "collapsed": false,
    "scrolled": true
   },
   "outputs": [
    {
     "name": "stdout",
     "output_type": "stream",
     "text": [
      "Total rows:  6545\n",
      "Convertable rows:  6349\n",
      "count    5.089000e+03\n",
      "mean     2.128685e+08\n",
      "std      5.235185e+09\n",
      "min      0.000000e+00\n",
      "25%      5.865608e+06\n",
      "50%      9.350994e+06\n",
      "75%      1.907602e+07\n",
      "max      3.501452e+11\n",
      "Name: SiteEUI, dtype: float64\n"
     ]
    },
    {
     "name": "stderr",
     "output_type": "stream",
     "text": [
      "/usr/local/lib/python2.7/site-packages/IPython/kernel/__main__.py:7: SettingWithCopyWarning: \n",
      "A value is trying to be set on a copy of a slice from a DataFrame\n",
      "\n",
      "See the the caveats in the documentation: http://pandas.pydata.org/pandas-docs/stable/indexing.html#indexing-view-versus-copy\n"
     ]
    }
   ],
   "source": [
    "# Show how many rows are convertable from total\n",
    "print 'Total rows: ', len(bblnrgdata.index)\n",
    "print 'Convertable rows: ', len(bblnrgdata[convertall(bblnrgdata['Reported Property Floor Area (Building(s)) (ft_)'])].index)\n",
    "\n",
    "# Create index of valid values\n",
    "indx2 = bblnrgdata[convertall(bblnrgdata['Reported Property Floor Area (Building(s)) (ft_)'])].index.values\n",
    "bblnrgdata['Reported Property Floor Area (Building(s)) (ft_)'][~bblnrgdata.index.isin(indx2)]=float('NaN')\n",
    "\n",
    "# Check that all values can be converted to float\n",
    "#print bblnrgdata['Reported Property Floor Area (Building(s)) (ft_)'].astype(float)\n",
    "\n",
    "# For each building with joined data, calculate total energy use by multiplying by buildling floor area\n",
    "tot_nrg = bblnrgdata['Site EUI(kBtu/ft2)'].astype(float) * bblnrgdata['Reported Property Floor Area (Building(s)) (ft_)'].astype(float)\n",
    "\n",
    "bblnrgdata['SiteEUI'] = tot_nrg\n",
    "\n",
    "print bblnrgdata.SiteEUI.describe()"
   ]
  },
  {
   "cell_type": "code",
   "execution_count": 12,
   "metadata": {
    "collapsed": false
   },
   "outputs": [
    {
     "data": {
      "image/png": "[encoded data removed]",
      "text/plain": [
       "<matplotlib.figure.Figure at 0x11a4bd590>"
      ]
     },
     "metadata": {},
     "output_type": "display_data"
    }
   ],
   "source": [
    "# Plot scatter \n",
    "pl.scatter(bblnrgdata['UnitsRes'], bblnrgdata['SiteEUI'])\n",
    "pl.xlim(1,1000)\n",
    "pl.ylim(1000,1e8)\n",
    "pl.xlabel('Number of residential units')\n",
    "pl.ylabel('Total energy use (kBtu)')\n",
    "pl.title('Building Energy Use by Number of Units')\n",
    "pl.show()"
   ]
  },
  {
   "cell_type": "code",
   "execution_count": 13,
   "metadata": {
    "collapsed": false
   },
   "outputs": [
    {
     "name": "stdout",
     "output_type": "stream",
     "text": [
      "             APPBBL    AssessLand     AssessTot           BBL        BldgArea  \\\n",
      "count  3.501000e+03  3.501000e+03  3.501000e+03  3.501000e+03     3501.000000   \n",
      "mean   3.017026e+08  2.859521e+06  1.496501e+07  1.013128e+09   154006.083976   \n",
      "std    4.626007e+08  4.728801e+06  2.287091e+07  5.549187e+06   155033.700490   \n",
      "min    0.000000e+00  1.066300e+04  4.133620e+05  1.000078e+09        0.000000   \n",
      "25%    0.000000e+00  7.020000e+05  4.674600e+06  1.009090e+09    64074.000000   \n",
      "50%    0.000000e+00  1.561500e+06  8.601300e+06  1.013660e+09   100056.000000   \n",
      "75%    1.004890e+09  3.271500e+06  1.735155e+07  1.016770e+09   180319.000000   \n",
      "max    1.022260e+09  1.123985e+08  6.936678e+08  1.022500e+09  1890703.000000   \n",
      "\n",
      "         BldgDepth    BldgFront        Block  BoroCode     BuiltFAR  \\\n",
      "count  3501.000000  3501.000000  3501.000000      3501  3501.000000   \n",
      "mean    102.191205   103.307695  1312.622679         1     8.917426   \n",
      "std     169.767581   150.294362   555.004317         0     4.738013   \n",
      "min       0.000000     0.000000     7.000000         1     0.000000   \n",
      "25%      79.000000    67.000000   909.000000         1     4.930000   \n",
      "50%      95.000000    99.250000  1366.000000         1     8.470000   \n",
      "75%     125.000000   130.000000  1677.000000         1    11.750000   \n",
      "max    9388.000000  7538.000000  2250.000000         1    52.690000   \n",
      "\n",
      "           ...              YCoord   YearAlter1   YearAlter2    YearBuilt  \\\n",
      "count      ...         3501.000000  3501.000000  3501.000000  3501.000000   \n",
      "mean       ...       221895.425593   998.912882   106.886889  1944.972294   \n",
      "std        ...        15670.235391   993.672807   450.039464    56.457019   \n",
      "min        ...            0.000000     0.000000     0.000000     0.000000   \n",
      "25%        ...       212032.000000     0.000000     0.000000  1922.000000   \n",
      "50%        ...       221039.000000  1929.000000     0.000000  1931.000000   \n",
      "75%        ...       229076.000000  1987.000000     0.000000  1968.000000   \n",
      "max        ...       258533.000000  2014.000000  2015.000000  2013.000000   \n",
      "\n",
      "            ZipCode  NYC Borough, Block, and Lot (BBL)      Zip Code  \\\n",
      "count   3501.000000                       3.501000e+03   3280.000000   \n",
      "mean   10032.811768                       1.013128e+09  10032.833232   \n",
      "std       37.938352                       5.549187e+06     37.788757   \n",
      "min    10001.000000                       1.000078e+09  10001.000000   \n",
      "25%    10017.000000                       1.009090e+09  10017.000000   \n",
      "50%    10024.000000                       1.013660e+09  10024.000000   \n",
      "75%    10033.000000                       1.016770e+09  10033.000000   \n",
      "max    10463.000000                       1.022500e+09  10463.000000   \n",
      "\n",
      "       DOF Property Floor Area (Buildngs and Parking)(ft2)  \\\n",
      "count                                        3281.000000     \n",
      "mean                                       168321.318805     \n",
      "std                                        173802.813236     \n",
      "min                                         50029.000000     \n",
      "25%                                         69300.000000     \n",
      "50%                                        108817.000000     \n",
      "75%                                        194856.000000     \n",
      "max                                       2797249.000000     \n",
      "\n",
      "       DOF Number of Buildings       SiteEUI  \n",
      "count              3281.000000  3.501000e+03  \n",
      "mean                  1.118866  1.009733e+08  \n",
      "std                   0.731612  1.252568e+09  \n",
      "min                   1.000000  5.344000e+03  \n",
      "25%                   1.000000  5.686776e+06  \n",
      "50%                   1.000000  8.480457e+06  \n",
      "75%                   1.000000  1.524010e+07  \n",
      "max                  10.000000  3.192713e+10  \n",
      "\n",
      "[8 rows x 51 columns]\n"
     ]
    }
   ],
   "source": [
    "# Now clean the data of outliers\n",
    "# Remove all data points with residential units = 0 or >= 1000, also those with SiteEUI <= 1000\n",
    "bblnrgdata_cut = bblnrgdata[(bblnrgdata['UnitsRes'] > 0) & (bblnrgdata['UnitsRes'] < 1000) & (bblnrgdata['SiteEUI'] >= 1000)]\n",
    "print bblnrgdata_cut.describe()"
   ]
  },
  {
   "cell_type": "code",
   "execution_count": 14,
   "metadata": {
    "collapsed": false
   },
   "outputs": [
    {
     "data": {
      "text/plain": [
       "<matplotlib.text.Text at 0x11d0bbfd0>"
      ]
     },
     "execution_count": 14,
     "metadata": {},
     "output_type": "execute_result"
    },
    {
     "data": {
      "image/png": "[encoded data removed]",
      "text/plain": [
       "<matplotlib.figure.Figure at 0x11c1e7190>"
      ]
     },
     "metadata": {},
     "output_type": "display_data"
    }
   ],
   "source": [
    "log_plt = bblnrgdata_cut.plot(kind = 'scatter', x = 'UnitsRes', y = 'SiteEUI', loglog=True, xlim = (1,1000))\n",
    "log_plt.set_xlabel(\"Number of residential units\")\n",
    "log_plt.set_ylabel(\"Total energy use (kBtu)\")\n",
    "log_plt.set_title('Building Energy Use by Number of Units (with Log Scaling of Both Variables)')"
   ]
  },
  {
   "cell_type": "markdown",
   "metadata": {},
   "source": [
    "when the points in a plot all look scrunched against the axis try a log plot! in pandas you enable that with the keyword 'loglog' :\n",
    "bblnrgdata.plot(..... loglog=True)\n",
    "\n",
    "NOTICE THAT YOU WILL STILL HAVE TO CUT YOUR DATASET! in my data i had a lot of energy datapoints that were exactly 0. I removed these \"outliers\" which I think are truly outliers in the sense that they are misreported numbers. you can remove the data that have nrg==0 (or nrg < some sensible threshold choice) by indexing your array:\n",
    "something like bblnrgdata_cut = bblnrgdata[bblnrgdata.nrg>1000]\n",
    "\n",
    "also i removed the buildings with several thousand units. points like that at the edge of my range would have a lot of \"LEVERAGE\", however  they are not suprious entries like the 0, which i believe are missing values, or perhaps abandoned lots. these are good datapoint that i need to throw away functionally for my analysis to work, but that should be stated clearly.\n"
   ]
  },
  {
   "cell_type": "markdown",
   "metadata": {},
   "source": [
    "Now fit a line through the data. you can use whatever you want to do it: \n",
    "statsmodels, scipy, any other package, or write your own minimization of the residuals\n",
    "## BUT REMEMBER: we see hints of a lienar relation in log space! so we want to fit a line to the log of our variables, not the variables themselves:\n",
    "\n",
    "if you used statsmodels it would look something like this:"
   ]
  },
  {
   "cell_type": "code",
   "execution_count": 15,
   "metadata": {
    "collapsed": false
   },
   "outputs": [
    {
     "name": "stdout",
     "output_type": "stream",
     "text": [
      "5.75480768258 0.638671998316\n",
      "                            OLS Regression Results                            \n",
      "==============================================================================\n",
      "Dep. Variable:                SiteEUI   R-squared:                       0.306\n",
      "Model:                            OLS   Adj. R-squared:                  0.306\n",
      "Method:                 Least Squares   F-statistic:                     1545.\n",
      "Date:                Sun, 18 Oct 2015   Prob (F-statistic):          3.36e-280\n",
      "Time:                        12:28:30   Log-Likelihood:                -1607.9\n",
      "No. Observations:                3501   AIC:                             3220.\n",
      "Df Residuals:                    3499   BIC:                             3232.\n",
      "Df Model:                           1                                         \n",
      "Covariance Type:            nonrobust                                         \n",
      "==============================================================================\n",
      "                 coef    std err          t      P>|t|      [95.0% Conf. Int.]\n",
      "------------------------------------------------------------------------------\n",
      "const          5.7548      0.032    179.373      0.000         5.692     5.818\n",
      "UnitsRes       0.6387      0.016     39.305      0.000         0.607     0.671\n",
      "==============================================================================\n",
      "Omnibus:                     2203.524   Durbin-Watson:                   1.972\n",
      "Prob(Omnibus):                  0.000   Jarque-Bera (JB):            91625.425\n",
      "Skew:                           2.390   Prob(JB):                         0.00\n",
      "Kurtosis:                      27.602   Cond. No.                         12.2\n",
      "==============================================================================\n",
      "\n",
      "Warnings:\n",
      "[1] Standard Errors assume that the covariance matrix of the errors is correctly specified.\n"
     ]
    }
   ],
   "source": [
    "x = bblnrgdata_cut['UnitsRes']\n",
    "y = bblnrgdata_cut['SiteEUI']\n",
    "\n",
    "X = sm.add_constant(np.log10(x))\n",
    "#print X\n",
    "\n",
    "model = sm.OLS(np.log10(y), X, missing='drop').fit() # ignores entires where x or y is NaN\n",
    "print model.params[0], model.params[1]\n",
    "print model.summary()"
   ]
  },
  {
   "cell_type": "markdown",
   "metadata": {},
   "source": [
    "remember to choose wisely which is your DEPENDENT and which is your INDEPENDENT variable. \n",
    "both for what you want to do logically (what changes as a functino of what) but also based on which  variable has a 'sensible' distribution that allows you to fit a function to it: \n",
    "    you need your independent variable to span a large range, and to be spread somewhat evenly in the range, \n",
    "    rather than just clustered in a spot\n",
    "    \n"
   ]
  },
  {
   "cell_type": "code",
   "execution_count": 16,
   "metadata": {
    "collapsed": false
   },
   "outputs": [
    {
     "name": "stdout",
     "output_type": "stream",
     "text": [
      "   x_val      y_val\n",
      "0      0   5.754808\n",
      "1     10  12.141528\n",
      "2     20  18.528248\n",
      "3     30  24.914968\n",
      "4     40  31.301688\n"
     ]
    }
   ],
   "source": [
    "fitted = pd.DataFrame({'x_val': np.arange(0,1010,10)})\n",
    "fitted['y_val'] = model.params[0] + model.params[1] * fitted['x_val']\n",
    "\n",
    "print fitted.head()"
   ]
  },
  {
   "cell_type": "markdown",
   "metadata": {},
   "source": [
    "try making a fit for energy vs units AND a fit for units vs energy. \n",
    "tell me which is better. \n",
    "\n",
    "##look at the fit summary: which is better? could you do a likelihood ratio test here? why or why not??"
   ]
  },
  {
   "cell_type": "code",
   "execution_count": 17,
   "metadata": {
    "collapsed": false
   },
   "outputs": [
    {
     "name": "stdout",
     "output_type": "stream",
     "text": [
      "-1.41834485639 0.479573973421\n",
      "                            OLS Regression Results                            \n",
      "==============================================================================\n",
      "Dep. Variable:               UnitsRes   R-squared:                       0.306\n",
      "Model:                            OLS   Adj. R-squared:                  0.306\n",
      "Method:                 Least Squares   F-statistic:                     1545.\n",
      "Date:                Sun, 18 Oct 2015   Prob (F-statistic):          3.36e-280\n",
      "Time:                        12:28:33   Log-Likelihood:                -1106.3\n",
      "No. Observations:                3501   AIC:                             2217.\n",
      "Df Residuals:                    3499   BIC:                             2229.\n",
      "Df Model:                           1                                         \n",
      "Covariance Type:            nonrobust                                         \n",
      "==============================================================================\n",
      "                 coef    std err          t      P>|t|      [95.0% Conf. Int.]\n",
      "------------------------------------------------------------------------------\n",
      "const         -1.4183      0.085    -16.595      0.000        -1.586    -1.251\n",
      "SiteEUI        0.4796      0.012     39.305      0.000         0.456     0.503\n",
      "==============================================================================\n",
      "Omnibus:                     1210.331   Durbin-Watson:                   1.889\n",
      "Prob(Omnibus):                  0.000   Jarque-Bera (JB):             8070.284\n",
      "Skew:                          -1.480   Prob(JB):                         0.00\n",
      "Kurtosis:                       9.823   Cond. No.                         109.\n",
      "==============================================================================\n",
      "\n",
      "Warnings:\n",
      "[1] Standard Errors assume that the covariance matrix of the errors is correctly specified.\n"
     ]
    }
   ],
   "source": [
    "# A fit for energy vs units is better. It makes more sense to interpret the relationship as a l% increase in number of\n",
    "# units in a building leads to an X% increase in building energy use. The reverse is not particularly useful (see\n",
    "# the results below). The models are essentially the same (a linear fit between two variables). \n",
    "\n",
    "y = bblnrgdata_cut['UnitsRes']\n",
    "x = bblnrgdata_cut['SiteEUI']\n",
    "\n",
    "X = sm.add_constant(np.log10(x))\n",
    "#print X\n",
    "\n",
    "model2 = sm.OLS(np.log10(y), X, missing='drop').fit() # ignores entires where x or y is NaN\n",
    "print model2.params[0], model2.params[1]\n",
    "print model2.summary()\n",
    "\n",
    "# You can't do a likelihood ratio test because the dependent variable is not the same in the two models\n",
    "# also, the models are the same so there is no purpose to doing this"
   ]
  },
  {
   "cell_type": "markdown",
   "metadata": {},
   "source": [
    "##now fit a second degree curve to it: a*x^2+b*x+c. \n",
    "that is still called a linear fir by the way, the \"linear\" definition refers to the PARAMETERS being linear, not to the variable!\n",
    "you can use np.polyfit for example (an example showned in the other assignment notebook), with order 2 instead of 1,\n",
    "\n",
    "np.polyfit(x, y, 2)\n",
    "\n",
    "or statmodels.formula.api passing a formula like \n",
    "\n",
    "formula = 'y ~ 1 + x + I(x ^ 2.0)'\n",
    "\n",
    "##look at the fit summary: which is better? could you do a likelihood ratio test here? why or why not??"
   ]
  },
  {
   "cell_type": "code",
   "execution_count": 18,
   "metadata": {
    "collapsed": false
   },
   "outputs": [
    {
     "name": "stdout",
     "output_type": "stream",
     "text": [
      "           x         y\n",
      "5   1.672098  5.604970\n",
      "6   2.262451  7.242899\n",
      "7   1.819544  6.789455\n",
      "8   1.934498  5.238673\n",
      "10  2.361728  7.825438\n",
      "                            OLS Regression Results                            \n",
      "==============================================================================\n",
      "Dep. Variable:                      y   R-squared:                       0.379\n",
      "Model:                            OLS   Adj. R-squared:                  0.379\n",
      "Method:                 Least Squares   F-statistic:                     1069.\n",
      "Date:                Sun, 18 Oct 2015   Prob (F-statistic):               0.00\n",
      "Time:                        12:28:35   Log-Likelihood:                -1412.9\n",
      "No. Observations:                3501   AIC:                             2832.\n",
      "Df Residuals:                    3498   BIC:                             2850.\n",
      "Df Model:                           2                                         \n",
      "Covariance Type:            nonrobust                                         \n",
      "==============================================================================\n",
      "                 coef    std err          t      P>|t|      [95.0% Conf. Int.]\n",
      "------------------------------------------------------------------------------\n",
      "Intercept      7.0122      0.069    101.653      0.000         6.877     7.147\n",
      "x             -0.8053      0.073    -11.065      0.000        -0.948    -0.663\n",
      "I(x ** 2)      0.3937      0.019     20.298      0.000         0.356     0.432\n",
      "==============================================================================\n",
      "Omnibus:                     2267.697   Durbin-Watson:                   1.969\n",
      "Prob(Omnibus):                  0.000   Jarque-Bera (JB):           121182.481\n",
      "Skew:                           2.414   Prob(JB):                         0.00\n",
      "Kurtosis:                      31.415   Cond. No.                         77.7\n",
      "==============================================================================\n",
      "\n",
      "Warnings:\n",
      "[1] Standard Errors assume that the covariance matrix of the errors is correctly specified.\n"
     ]
    }
   ],
   "source": [
    "x = bblnrgdata_cut['UnitsRes']\n",
    "y = bblnrgdata_cut['SiteEUI']\n",
    "\n",
    "df = pd.DataFrame({'x': log10(x), 'y': log10(y)})\n",
    "print df.head()\n",
    "\n",
    "import statsmodels.formula.api as smf\n",
    "model3 = smf.ols('y ~ x + I(x**2)', data=df).fit()\n",
    "print model3.summary()\n",
    "\n",
    "# The polynomial model has a better fit. I could do a likelihood ratio test here since the two models have the same\n",
    "# dependent variable and the linear model is nested in the polynomial model."
   ]
  },
  {
   "cell_type": "markdown",
   "metadata": {},
   "source": [
    "EXTRA CREDIT: \n",
    "    \n",
    "use WLS the weighted sq fit instead of OLS. you need to give weights to your points: \n",
    "estimates of the errors. the easiest thing is the sqrt of the datapoint value.\n",
    "if you want to be more sophisticated you can estimate the variance of your data\n",
    "near each point and use that "
   ]
  },
  {
   "cell_type": "markdown",
   "metadata": {},
   "source": [
    "Lastly: do it by hand and create a function that minimizes the residuals: \n",
    "       \n",
    "the residuals are the sum of the differences between data and model: \n",
    "in the case of a line fit model (and you can use your errors if you did the extra credit!)\n",
    "\n",
    "sum(np.log(bblnrgdatacut.nrg) - np.log(bblnrgdatacut.UnitsTotal)*a+b )^2\n",
    "\n",
    "where a and b are the parameters returned by the line fitter. \n",
    "for each data point you can calculate the model at different values : for example in a range B = np.arange (-100, 100, 1) for the intercept, and A = np.arange(-50.0, 50.0, 0.5) for the slope\n",
    "\n",
    "write it as a nested for loop (or challenge yourself and vectorize it!) with a loop inside another ranging all poissible combinations of the 2 variables (i use enumerate to get both an index from 0 to the size of my array, which i assign to i (and j) and the value of the array at that index - look up the syntax!):\n",
    "\n",
    "\n",
    "for i,a in enumerate(A):\n",
    "\n",
    "    for j,b in enumerate(B):\n",
    "    \n",
    "         Lsurface[i][j].....\n",
    "\n",
    "this gives you a 2D array that represents your likelihood surface! what we do to find a good fit is find the minimum (lowest point) on this surface. \n",
    "\n",
    "you can plot a surface (a 2D array) with pl.imshow(Lsurface) as a \"heatmap\"\n",
    "\n",
    "but when you do that you will find that the plot is very uninformative. just like you did before with the data, plot the log of it (pl.imshow(np.log(Lsurface))\n",
    "and see if it helps!\n",
    "also make sure your x and y axes tick numbers represent the range of values, not the cell index, which is the default for imshow. do that with the keyword extent: \n",
    "pl.imshow(Lsurface, .... , extent = [minimum, and max of your y array, minimum, and max of your x array]...) (notice that the numbers are switched! make sure to verify which axis is the slope, which is the intercept)"
   ]
  },
  {
   "cell_type": "code",
   "execution_count": 19,
   "metadata": {
    "collapsed": true
   },
   "outputs": [],
   "source": [
    "##create the array\n",
    "##[...]\n",
    "##pl.figure(figsize=(10,10))\n",
    "##pl.title (\"log likelihood surface\", fontsize = 22)\n",
    "##pl.imshow(np.log(Lsurface), extent = ..., aspect=...)\n",
    "##[...]\n",
    "##pl.colorbar()"
   ]
  },
  {
   "cell_type": "markdown",
   "metadata": {},
   "source": [
    "EXTRA CREDIT: get creative with the dataset! can you make an insigntful plot to show any structure in the data?\n",
    "    \n",
    "below is my silly attempt at that\n",
    "\n",
    "\n"
   ]
  },
  {
   "cell_type": "code",
   "execution_count": 21,
   "metadata": {
    "collapsed": false
   },
   "outputs": [],
   "source": [
    "#bblnrgdatacut['YearBuilt'][bblnrgdatacut['YearBuilt']<1800]=1800\n",
    "\n",
    "#bblnrgdatacut.plot(kind='scatter',x='nrg',y='UnitsTotal', fontsize=22, colormap='gist_rainbow', alpha = 1, marker='o',  figsize=(16, 14), loglog=True,  xlim=(1000,1e11), ylim=(1,1000), c=bblnrgdatacut['YearBuilt']-1900, s=bblnrgdatacut['UnitsTotal']/bblnrgdatacut['UnitsRes']*100)"
   ]
  }
 ],
 "metadata": {
  "kernelspec": {
   "display_name": "Python 2",
   "language": "python",
   "name": "python2"
  },
  "language_info": {
   "codemirror_mode": {
    "name": "ipython",
    "version": 2
   },
   "file_extension": ".py",
   "mimetype": "text/x-python",
   "name": "python",
   "nbconvert_exporter": "python",
   "pygments_lexer": "ipython2",
   "version": "2.7.10"
  }
 },
 "nbformat": 4,
 "nbformat_minor": 0
}
